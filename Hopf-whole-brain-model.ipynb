{
 "cells": [
  {
   "cell_type": "code",
   "execution_count": 1,
   "id": "36959679",
   "metadata": {},
   "outputs": [],
   "source": [
    "#Import libraries\n",
    "\n",
    "import nilearn as ni\n",
    "import numpy as np\n",
    "import matplotlib.pyplot as plt \n",
    "from numba import njit,prange\n",
    "import random\n",
    "\n",
    "from nilearn.connectome import ConnectivityMeasure\n",
    "from nilearn import datasets, plotting\n"
   ]
  },
  {
   "cell_type": "code",
   "execution_count": 2,
   "id": "e88fc35e",
   "metadata": {},
   "outputs": [],
   "source": [
    "file_data1 = np.loadtxt(\"rsFMRI_0364_1.txt\") #Import BOLD temporal series\n",
    "\n",
    "A = np.array(file_data1)\n",
    "\n",
    "corrMatrix = np.corrcoef(np.transpose(A)) #Creates functional matrix\n",
    "\n",
    "np.fill_diagonal(corrMatrix,0)\n"
   ]
  },
  {
   "cell_type": "code",
   "execution_count": 3,
   "id": "1d802bb2",
   "metadata": {},
   "outputs": [],
   "source": [
    "dt = 0.01 #time step\n",
    "time = 200 #total time\n",
    "num_steps = int(time/dt) #Number of steps\n",
    "\n",
    "nodes = 306 #Number of nodes\n",
    "\n",
    "omega = 15\n",
    "alpha = 0.2 #Numerical parameters of our system\n",
    "lamb = 0.45\n",
    "beta = 0.05\n",
    "\n",
    "num_all_sim = 200 #Total number of simulations"
   ]
  },
  {
   "cell_type": "code",
   "execution_count": null,
   "id": "e88b2697",
   "metadata": {},
   "outputs": [],
   "source": [
    "#Function that realizes one simulation\n",
    "@njit\n",
    "def brain_simulation(re,im):\n",
    "    \n",
    "    z = np.empty((nodes,num_steps))\n",
    "    \n",
    "    for i in range(num_steps):\n",
    "        for k in prange(nodes):\n",
    "\n",
    "            dx = (lamb-1)*re[k] - (omega*im[k]) + 2*re[k]*(re[k]**2 + im[k]**2) - re[k]*(re[k]**2 + im[k]**2)**2\n",
    "            dy = (lamb-1)*im[k] + (omega*re[k]) + 2*im[k]*(re[k]**2 + im[k]**2) - im[k]*(re[k]**2 + im[k]**2)**2\n",
    "\n",
    "\n",
    "            re[k] += dx*dt\n",
    "            im[k] += dy*dt\n",
    "\n",
    "            re[k] += beta*dt*np.sum(corrMatrix[:,k]*(re[:]-re[k]))\n",
    "            im[k] += beta*dt*np.sum(corrMatrix[:,k]*(im[:]-im[k])) \n",
    "\n",
    "            re[k] += alpha*np.sqrt(dt)*random.gauss(0,1)\n",
    "            im[k] += alpha*np.sqrt(dt)*random.gauss(0,1)\n",
    "            \n",
    "        z[:,i] = np.sqrt((re)**2 + (im)**2)\n",
    "            \n",
    "    return z"
   ]
  },
  {
   "cell_type": "code",
   "execution_count": null,
   "id": "2bcd1920",
   "metadata": {},
   "outputs": [],
   "source": [
    "@njit\n",
    "def all_simulations(W):\n",
    "    \n",
    "    for m in prange(num_all_sim):\n",
    "        \n",
    "        re = np.random.rand(nodes)*0.05\n",
    "        im = np.random.rand(nodes)*0.05\n",
    "        \n",
    "        W[:,:,m] = brain_simulation(re,im)\n",
    "    \n",
    "    return W\n"
   ]
  }
 ],
 "metadata": {
  "kernelspec": {
   "display_name": "Python 3 (ipykernel)",
   "language": "python",
   "name": "python3"
  },
  "language_info": {
   "codemirror_mode": {
    "name": "ipython",
    "version": 3
   },
   "file_extension": ".py",
   "mimetype": "text/x-python",
   "name": "python",
   "nbconvert_exporter": "python",
   "pygments_lexer": "ipython3",
   "version": "3.11.5"
  }
 },
 "nbformat": 4,
 "nbformat_minor": 5
}
